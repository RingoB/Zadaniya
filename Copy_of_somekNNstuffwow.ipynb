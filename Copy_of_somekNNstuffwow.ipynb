{
  "nbformat": 4,
  "nbformat_minor": 0,
  "metadata": {
    "colab": {
      "name": "Copy of somekNNstuffwow.ipynb",
      "version": "0.3.2",
      "provenance": [],
      "include_colab_link": true
    },
    "kernelspec": {
      "display_name": "Python 3",
      "language": "python",
      "name": "python3"
    }
  },
  "cells": [
    {
      "cell_type": "markdown",
      "metadata": {
        "id": "view-in-github",
        "colab_type": "text"
      },
      "source": [
        "<a href=\"https://colab.research.google.com/github/RingoB/Zadaniya/blob/24feb/Copy_of_somekNNstuffwow.ipynb\" target=\"_parent\"><img src=\"https://colab.research.google.com/assets/colab-badge.svg\" alt=\"Open In Colab\"/></a>"
      ]
    },
    {
      "metadata": {
        "id": "zL_mJjJzjQa5",
        "colab_type": "code",
        "outputId": "9028b54a-5e8a-4068-ba80-279cfaad6cc8",
        "colab": {
          "base_uri": "https://localhost:8080/",
          "height": 521
        }
      },
      "cell_type": "code",
      "source": [
        "%matplotlib inline\n",
        "import numpy as np\n",
        "import matplotlib.pyplot as plt\n",
        "import math\n",
        "from collections import Counter\n",
        "\n",
        "y1 = np.random.poisson(100, 10)\n",
        "x1 = np.random.poisson(100, 10) #Генерируем первую выборку\n",
        "\n",
        "y2 = np.random.poisson(200, 10)\n",
        "x2 = np.random.poisson(100, 10) #Генерируем вторую выборку\n",
        "\n",
        "y3 = np.random.poisson(200, 10)\n",
        "x3 = np.random.poisson(200, 10) #Генерируем третью выборку\n",
        "coord=[]\n",
        "coord.append(np.array(list(zip(x1, y1))))\n",
        "coord.append(np.array(list(zip(x2, y2))))\n",
        "coord.append(np.array(list(zip(x3, y3)))) #Все координаты записываем в один список\n",
        "print(coord)"
      ],
      "execution_count": 0,
      "outputs": [
        {
          "output_type": "stream",
          "text": [
            "[array([[ 82,  96],\n",
            "       [ 99, 118],\n",
            "       [114,  96],\n",
            "       [ 89, 102],\n",
            "       [117,  94],\n",
            "       [ 97,  84],\n",
            "       [ 89, 106],\n",
            "       [ 91, 100],\n",
            "       [101, 106],\n",
            "       [106,  87]]), array([[116, 214],\n",
            "       [120, 208],\n",
            "       [ 93, 228],\n",
            "       [121, 203],\n",
            "       [100, 197],\n",
            "       [108, 214],\n",
            "       [102, 195],\n",
            "       [106, 199],\n",
            "       [107, 215],\n",
            "       [106, 187]]), array([[170, 208],\n",
            "       [189, 206],\n",
            "       [215, 181],\n",
            "       [207, 211],\n",
            "       [192, 204],\n",
            "       [194, 194],\n",
            "       [191, 193],\n",
            "       [221, 222],\n",
            "       [206, 178],\n",
            "       [186, 220]])]\n"
          ],
          "name": "stdout"
        }
      ]
    },
    {
      "metadata": {
        "id": "EZ5l1sIZjQa_",
        "colab_type": "code",
        "outputId": "42c425d5-5e53-4182-a39e-ff6663ef66fb",
        "colab": {
          "base_uri": "https://localhost:8080/",
          "height": 373
        }
      },
      "cell_type": "code",
      "source": [
        "plt.scatter(coord[0][:,0], coord[0][:,1], label='1st type')\n",
        "plt.scatter(coord[1][:,0], coord[1][:,1], label='2nd type')\n",
        "plt.scatter(coord[2][:,0], coord[2][:,1], label='3rd type') #Рисуем график для наглядности\n",
        "plt.legend()\n",
        "\n",
        "middle1 = []; middle2 = []; middle3 = []\n",
        "middle1.append(np.mean(coord[0][:,0]))\n",
        "middle1.append(np.mean(coord[0][:,1]))\n",
        "middle2.append(np.mean(coord[1][:,0]))\n",
        "middle2.append(np.mean(coord[1][:,1]))\n",
        "middle3.append(np.mean(coord[2][:,0]))\n",
        "middle3.append(np.mean(coord[2][:,1]))\n",
        "print(middle1, middle2, middle3) #Выводим для проверки\n",
        "print(coord[1][0][0])\n",
        "newcoord=np.array(list(map(int,input().split()))) #Вводим новую точку\n",
        "k=int(input())\n",
        "\n",
        "dist=[]\n",
        "for i in range(len(coord)):\n",
        "  for n in range(len(coord[i])):\n",
        "    distance=[]\n",
        "    distance.append(math.sqrt((coord[i][n][0]-newcoord[0])**2+(coord[i][n][1]-newcoord[1])**2))\n",
        "    distance.append(i)\n",
        "    dist.append(distance)\n",
        "dist.sort()\n",
        "print(dist)\n",
        "types=[]\n",
        "for i in range(k):\n",
        "  types.append(dist[i][1])\n",
        "\n",
        "cl= Counter(types).most_common()[0]\n",
        "    \n",
        "    #Считаем расстояние до центра каждой выборки по уравнению окружности\n",
        "\n",
        "print(\"It's\", cl[0]+1, \"type\") #Выводим к какой выборке новая точка относится\n",
        "coord[cl[0]]=np.vstack([coord[cl[0]], newcoord]) #Добавляем её к соответствующей выборке"
      ],
      "execution_count": 0,
      "outputs": [
        {
          "output_type": "stream",
          "text": [
            "[98.5, 98.9] [107.9, 206.0] [197.1, 201.7]\n",
            "116\n",
            "160 200\n",
            "5\n",
            "[[12.806248474865697, 2], [29.614185789921695, 2], [31.78049716414141, 2], [32.2490309931942, 2], [32.802438933713454, 2], [34.52535300326414, 2], [39.11521443121589, 1], [40.792156108742276, 1], [46.17358552246078, 1], [48.27007354458868, 2], [50.99019513592785, 2], [53.85164807134504, 1], [54.00925846556311, 1], [55.08175741568164, 1], [55.54277630799526, 1], [58.18934610390462, 2], [58.215118311311535, 1], [60.07495318350236, 1], [64.8459713474939, 2], [72.61542535852834, 1], [102.20078277586722, 0], [110.98198051936178, 0], [113.718951806636, 0], [114.38968484964018, 0], [117.80067911519016, 0], [121.01652779682617, 0], [121.49485585818027, 0], [125.23977004130916, 0], [130.0, 0], [132.00378782444085, 0]]\n",
            "It's 3 type\n"
          ],
          "name": "stdout"
        },
        {
          "output_type": "display_data",
          "data": {
            "image/png": "[encoded data removed]",
            "text/plain": [
              "<Figure size 432x288 with 1 Axes>"
            ]
          },
          "metadata": {
            "tags": []
          }
        }
      ]
    },
    {
      "metadata": {
        "id": "ZoCpUiIXjQbH",
        "colab_type": "code",
        "outputId": "3f1f74c2-81e0-4396-ed2d-f6e5819d5cc3",
        "colab": {
          "base_uri": "https://localhost:8080/",
          "height": 283
        }
      },
      "cell_type": "code",
      "source": [
        "plt.scatter(coord[0][:,0], coord[0][:,1], label='1st type')\n",
        "plt.scatter(coord[1][:,0], coord[1][:,1], label='2nd type')\n",
        "plt.scatter(coord[2][:,0], coord[2][:,1], label='3rd type') #Cнова рисуем график\n",
        "plt.legend()"
      ],
      "execution_count": 0,
      "outputs": [
        {
          "output_type": "execute_result",
          "data": {
            "text/plain": [
              "<matplotlib.legend.Legend at 0x7fb9df297e80>"
            ]
          },
          "metadata": {
            "tags": []
          },
          "execution_count": 78
        },
        {
          "output_type": "display_data",
          "data": {
            "image/png": "[encoded data removed]",
            "text/plain": [
              "<Figure size 432x288 with 1 Axes>"
            ]
          },
          "metadata": {
            "tags": []
          }
        }
      ]
    }
  ]
}